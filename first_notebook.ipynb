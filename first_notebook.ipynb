{
 "cells": [
  {
   "cell_type": "markdown",
   "id": "4b4a1acd",
   "metadata": {},
   "source": [
    "### Introduction to Programming\n",
    "\n",
    "In this program, we are going to learn how to use Jupyter Notebooks"
   ]
  },
  {
   "cell_type": "code",
   "execution_count": 3,
   "id": "6ab4e82a",
   "metadata": {},
   "outputs": [
    {
     "name": "stdout",
     "output_type": "stream",
     "text": [
      "First trial\n",
      "I like how this works\n"
     ]
    }
   ],
   "source": [
    "def main():\n",
    "    print(\"First trial\")\n",
    "    print(\"I like how this works\")\n",
    "\n",
    "main()"
   ]
  },
  {
   "cell_type": "code",
   "execution_count": null,
   "id": "51e31860",
   "metadata": {},
   "outputs": [],
   "source": []
  }
 ],
 "metadata": {
  "kernelspec": {
   "display_name": "Python 3",
   "language": "python",
   "name": "python3"
  },
  "language_info": {
   "codemirror_mode": {
    "name": "ipython",
    "version": 3
   },
   "file_extension": ".py",
   "mimetype": "text/x-python",
   "name": "python",
   "nbconvert_exporter": "python",
   "pygments_lexer": "ipython3",
   "version": "3.9.1"
  }
 },
 "nbformat": 4,
 "nbformat_minor": 5
}

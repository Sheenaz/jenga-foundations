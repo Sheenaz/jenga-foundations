{
 "cells": [
  {
   "cell_type": "markdown",
   "id": "9cc18d79",
   "metadata": {},
   "source": [
    "# # Travel at Isanbul"
   ]
  },
  {
   "cell_type": "code",
   "execution_count": 2,
   "id": "72176eb2",
   "metadata": {},
   "outputs": [
    {
     "name": "stdout",
     "output_type": "stream",
     "text": [
      "       TelefonKisiID  Ta??y?c? Firma         Adi_Soyadi  SeferTakipNo  \\\n",
      "0            1871516             532        �MER TEKTA?         75455   \n",
      "1            1847377             476   TU?RUL HAFIZO?LU        417832   \n",
      "2            1845989             140       H�SEYIN KAYA         95236   \n",
      "3            1853372             693       ERS?N ATMACA         26093   \n",
      "4            1846628             140      ERCAN DEMIRCI         95056   \n",
      "...              ...             ...                ...           ...   \n",
      "99995        1871203             987        EK?N S�NMEZ         29484   \n",
      "99996        1853278             434       VURAL KESK?N        227036   \n",
      "99997        1859522             196         �ZCAN �ZER         18657   \n",
      "99998        1847781            1463  F?KRETKI?LALIOGLU         13728   \n",
      "99999        1847781            1463  F?KRETKI?LALIOGLU         13728   \n",
      "\n",
      "       BiletTakipNo        Yerel_Saat  Seyahat_Tipi    SubeYeri      Kalkis  \\\n",
      "0          11685431  01/01/2012 00:00             0  D?YARBAKIR  D?YARBAKIR   \n",
      "1          15055943  01/01/2012 00:00             0      SAMSUN      SAMSUN   \n",
      "2          11500972  01/01/2012 01:00             0    ?STANBUL    ?STANBUL   \n",
      "3          10590360  01/01/2012 01:00             0       N??DE       N??DE   \n",
      "4          11498257  01/01/2012 02:45             0     Boz�y�k     Boz�y�k   \n",
      "...             ...               ...           ...         ...         ...   \n",
      "99995        684315  01/04/2015 22:00             0       KONYA       KONYA   \n",
      "99996      11915976  01/04/2015 22:00             0    OSMAN?YE    OSMAN?YE   \n",
      "99997        277884  01/04/2015 23:15             1     Nazilli     Nazilli   \n",
      "99998        144871  01/04/2015 23:45             0       Gebze       Gebze   \n",
      "99999        144872  01/04/2015 23:45             0       Gebze       Gebze   \n",
      "\n",
      "               Varis  Koltuk_Durumu             Islem_Tarihi  Koltuk_No  \\\n",
      "0             MERS?N              3  2012-01-01 23:30:10.000         37   \n",
      "1            KAYSER?              3  2011-12-31 14:16:50.000         27   \n",
      "2          ESK??EH?R              3  2012-01-01 00:54:00.000          3   \n",
      "3             ANKARA              3  2012-01-01 23:30:02.000         22   \n",
      "4      ?st.Sa.G�k�en              3  2011-12-30 13:43:30.000         16   \n",
      "...              ...            ...                      ...        ...   \n",
      "99995        Bulan?k              3  2015-04-01 15:12:14.000          4   \n",
      "99996      GAZ?ANTEP              3  2015-04-01 21:35:55.000         15   \n",
      "99997      �ANAKKALE              3  2015-04-01 23:09:39.000         15   \n",
      "99998       Sungurlu              3  2015-04-01 21:58:48.000          1   \n",
      "99999       Sungurlu              3  2015-04-01 21:58:48.000          2   \n",
      "\n",
      "       Bilet_Fiyati  Odeme_Sekli SeferTipiAdi  ToplamSatisAdedi  \n",
      "0              40.0            1       MOLALI                64  \n",
      "1              45.0            1       MOLALI                95  \n",
      "2              35.0            1     TAR?FEL?                26  \n",
      "3              25.0            1       MOLALI                39  \n",
      "4              33.0            1     TAR?FEL?                29  \n",
      "...             ...          ...          ...               ...  \n",
      "99995          75.0            1       MOLALI                19  \n",
      "99996          15.0            1       MOLALI                43  \n",
      "99997          42.0            1       MOLALI                27  \n",
      "99998          60.0            1       MOLALI                21  \n",
      "99999          60.0            1       MOLALI                21  \n",
      "\n",
      "[100000 rows x 17 columns]\n"
     ]
    }
   ],
   "source": [
    "import pandas as pd\n",
    "\n",
    "tour = pd.read_csv(\"travel_dataset.csv\")\n",
    "\n",
    "print (tour)"
   ]
  },
  {
   "cell_type": "code",
   "execution_count": 3,
   "id": "2ab6f9a4",
   "metadata": {},
   "outputs": [
    {
     "name": "stdout",
     "output_type": "stream",
     "text": [
      "   TelefonKisiID  Ta??y?c? Firma        Adi_Soyadi  SeferTakipNo  \\\n",
      "0        1871516             532       �MER TEKTA?         75455   \n",
      "1        1847377             476  TU?RUL HAFIZO?LU        417832   \n",
      "2        1845989             140      H�SEYIN KAYA         95236   \n",
      "3        1853372             693      ERS?N ATMACA         26093   \n",
      "4        1846628             140     ERCAN DEMIRCI         95056   \n",
      "\n",
      "   BiletTakipNo        Yerel_Saat  Seyahat_Tipi    SubeYeri      Kalkis  \\\n",
      "0      11685431  01/01/2012 00:00             0  D?YARBAKIR  D?YARBAKIR   \n",
      "1      15055943  01/01/2012 00:00             0      SAMSUN      SAMSUN   \n",
      "2      11500972  01/01/2012 01:00             0    ?STANBUL    ?STANBUL   \n",
      "3      10590360  01/01/2012 01:00             0       N??DE       N??DE   \n",
      "4      11498257  01/01/2012 02:45             0     Boz�y�k     Boz�y�k   \n",
      "\n",
      "           Varis  Koltuk_Durumu             Islem_Tarihi  Koltuk_No  \\\n",
      "0         MERS?N              3  2012-01-01 23:30:10.000         37   \n",
      "1        KAYSER?              3  2011-12-31 14:16:50.000         27   \n",
      "2      ESK??EH?R              3  2012-01-01 00:54:00.000          3   \n",
      "3         ANKARA              3  2012-01-01 23:30:02.000         22   \n",
      "4  ?st.Sa.G�k�en              3  2011-12-30 13:43:30.000         16   \n",
      "\n",
      "   Bilet_Fiyati  Odeme_Sekli SeferTipiAdi  ToplamSatisAdedi  \n",
      "0          40.0            1       MOLALI                64  \n",
      "1          45.0            1       MOLALI                95  \n",
      "2          35.0            1     TAR?FEL?                26  \n",
      "3          25.0            1       MOLALI                39  \n",
      "4          33.0            1     TAR?FEL?                29  \n"
     ]
    }
   ],
   "source": [
    "print (tour.head(5))"
   ]
  },
  {
   "cell_type": "code",
   "execution_count": 4,
   "id": "f70bcc7a",
   "metadata": {},
   "outputs": [
    {
     "name": "stdout",
     "output_type": "stream",
     "text": [
      "<class 'pandas.core.frame.DataFrame'>\n",
      "RangeIndex: 100000 entries, 0 to 99999\n",
      "Data columns (total 17 columns):\n",
      " #   Column            Non-Null Count   Dtype  \n",
      "---  ------            --------------   -----  \n",
      " 0   TelefonKisiID     100000 non-null  int64  \n",
      " 1   Ta??y?c? Firma    100000 non-null  int64  \n",
      " 2   Adi_Soyadi        99972 non-null   object \n",
      " 3   SeferTakipNo      100000 non-null  int64  \n",
      " 4   BiletTakipNo      100000 non-null  int64  \n",
      " 5   Yerel_Saat        100000 non-null  object \n",
      " 6   Seyahat_Tipi      100000 non-null  int64  \n",
      " 7   SubeYeri          100000 non-null  object \n",
      " 8   Kalkis            100000 non-null  object \n",
      " 9   Varis             100000 non-null  object \n",
      " 10  Koltuk_Durumu     100000 non-null  int64  \n",
      " 11  Islem_Tarihi      100000 non-null  object \n",
      " 12  Koltuk_No         100000 non-null  int64  \n",
      " 13  Bilet_Fiyati      100000 non-null  float64\n",
      " 14  Odeme_Sekli       100000 non-null  int64  \n",
      " 15  SeferTipiAdi      99994 non-null   object \n",
      " 16  ToplamSatisAdedi  100000 non-null  int64  \n",
      "dtypes: float64(1), int64(9), object(7)\n",
      "memory usage: 13.0+ MB\n"
     ]
    }
   ],
   "source": [
    "tour.info()"
   ]
  },
  {
   "cell_type": "code",
   "execution_count": 5,
   "id": "4a85a74d",
   "metadata": {},
   "outputs": [
    {
     "name": "stdout",
     "output_type": "stream",
     "text": [
      "       TelefonKisiID  Ta??y?c? Firma         Adi_Soyadi  SeferTakipNo  \\\n",
      "0            1871516             532        �MER TEKTA?         75455   \n",
      "1            1847377             476   TU?RUL HAFIZO?LU        417832   \n",
      "2            1845989             140       H�SEYIN KAYA         95236   \n",
      "3            1853372             693       ERS?N ATMACA         26093   \n",
      "4            1846628             140      ERCAN DEMIRCI         95056   \n",
      "...              ...             ...                ...           ...   \n",
      "99995        1871203             987        EK?N S�NMEZ         29484   \n",
      "99996        1853278             434       VURAL KESK?N        227036   \n",
      "99997        1859522             196         �ZCAN �ZER         18657   \n",
      "99998        1847781            1463  F?KRETKI?LALIOGLU         13728   \n",
      "99999        1847781            1463  F?KRETKI?LALIOGLU         13728   \n",
      "\n",
      "       BiletTakipNo        Yerel_Saat  Seyahat_Tipi    SubeYeri      Kalkis  \\\n",
      "0          11685431  01/01/2012 00:00             0  D?YARBAKIR  D?YARBAKIR   \n",
      "1          15055943  01/01/2012 00:00             0      SAMSUN      SAMSUN   \n",
      "2          11500972  01/01/2012 01:00             0    ?STANBUL    ?STANBUL   \n",
      "3          10590360  01/01/2012 01:00             0       N??DE       N??DE   \n",
      "4          11498257  01/01/2012 02:45             0     Boz�y�k     Boz�y�k   \n",
      "...             ...               ...           ...         ...         ...   \n",
      "99995        684315  01/04/2015 22:00             0       KONYA       KONYA   \n",
      "99996      11915976  01/04/2015 22:00             0    OSMAN?YE    OSMAN?YE   \n",
      "99997        277884  01/04/2015 23:15             1     Nazilli     Nazilli   \n",
      "99998        144871  01/04/2015 23:45             0       Gebze       Gebze   \n",
      "99999        144872  01/04/2015 23:45             0       Gebze       Gebze   \n",
      "\n",
      "               Varis  Koltuk_Durumu             Islem_Tarihi  Koltuk_No  \\\n",
      "0             MERS?N              3  2012-01-01 23:30:10.000         37   \n",
      "1            KAYSER?              3  2011-12-31 14:16:50.000         27   \n",
      "2          ESK??EH?R              3  2012-01-01 00:54:00.000          3   \n",
      "3             ANKARA              3  2012-01-01 23:30:02.000         22   \n",
      "4      ?st.Sa.G�k�en              3  2011-12-30 13:43:30.000         16   \n",
      "...              ...            ...                      ...        ...   \n",
      "99995        Bulan?k              3  2015-04-01 15:12:14.000          4   \n",
      "99996      GAZ?ANTEP              3  2015-04-01 21:35:55.000         15   \n",
      "99997      �ANAKKALE              3  2015-04-01 23:09:39.000         15   \n",
      "99998       Sungurlu              3  2015-04-01 21:58:48.000          1   \n",
      "99999       Sungurlu              3  2015-04-01 21:58:48.000          2   \n",
      "\n",
      "       Bilet_Fiyati  Odeme_Sekli SeferTipiAdi  ToplamSatisAdedi  \n",
      "0              40.0            1       MOLALI                64  \n",
      "1              45.0            1       MOLALI                95  \n",
      "2              35.0            1     TAR?FEL?                26  \n",
      "3              25.0            1       MOLALI                39  \n",
      "4              33.0            1     TAR?FEL?                29  \n",
      "...             ...          ...          ...               ...  \n",
      "99995          75.0            1       MOLALI                19  \n",
      "99996          15.0            1       MOLALI                43  \n",
      "99997          42.0            1       MOLALI                27  \n",
      "99998          60.0            1       MOLALI                21  \n",
      "99999          60.0            1       MOLALI                21  \n",
      "\n",
      "[100000 rows x 17 columns]\n"
     ]
    }
   ],
   "source": [
    "print (tour)"
   ]
  },
  {
   "cell_type": "code",
   "execution_count": 6,
   "id": "c46c9bf4",
   "metadata": {},
   "outputs": [
    {
     "name": "stdout",
     "output_type": "stream",
     "text": [
      "       TelefonKisiID  Ta??y?c? Firma         Adi_Soyadi  SeferTakipNo  \\\n",
      "0            1871516             532        �MER TEKTA?         75455   \n",
      "1            1847377             476   TU?RUL HAFIZO?LU        417832   \n",
      "2            1845989             140       H�SEYIN KAYA         95236   \n",
      "3            1853372             693       ERS?N ATMACA         26093   \n",
      "4            1846628             140      ERCAN DEMIRCI         95056   \n",
      "...              ...             ...                ...           ...   \n",
      "99995        1871203             987        EK?N S�NMEZ         29484   \n",
      "99996        1853278             434       VURAL KESK?N        227036   \n",
      "99997        1859522             196         �ZCAN �ZER         18657   \n",
      "99998        1847781            1463  F?KRETKI?LALIOGLU         13728   \n",
      "99999        1847781            1463  F?KRETKI?LALIOGLU         13728   \n",
      "\n",
      "       BiletTakipNo        Yerel_Saat  Seyahat_Tipi    SubeYeri      Kalkis  \\\n",
      "0          11685431  01/01/2012 00:00             0  D?YARBAKIR  D?YARBAKIR   \n",
      "1          15055943  01/01/2012 00:00             0      SAMSUN      SAMSUN   \n",
      "2          11500972  01/01/2012 01:00             0    ?STANBUL    ?STANBUL   \n",
      "3          10590360  01/01/2012 01:00             0       N??DE       N??DE   \n",
      "4          11498257  01/01/2012 02:45             0     Boz�y�k     Boz�y�k   \n",
      "...             ...               ...           ...         ...         ...   \n",
      "99995        684315  01/04/2015 22:00             0       KONYA       KONYA   \n",
      "99996      11915976  01/04/2015 22:00             0    OSMAN?YE    OSMAN?YE   \n",
      "99997        277884  01/04/2015 23:15             1     Nazilli     Nazilli   \n",
      "99998        144871  01/04/2015 23:45             0       Gebze       Gebze   \n",
      "99999        144872  01/04/2015 23:45             0       Gebze       Gebze   \n",
      "\n",
      "               Varis  Koltuk_Durumu             Islem_Tarihi  Koltuk_No  \\\n",
      "0             MERS?N              3  2012-01-01 23:30:10.000         37   \n",
      "1            KAYSER?              3  2011-12-31 14:16:50.000         27   \n",
      "2          ESK??EH?R              3  2012-01-01 00:54:00.000          3   \n",
      "3             ANKARA              3  2012-01-01 23:30:02.000         22   \n",
      "4      ?st.Sa.G�k�en              3  2011-12-30 13:43:30.000         16   \n",
      "...              ...            ...                      ...        ...   \n",
      "99995        Bulan?k              3  2015-04-01 15:12:14.000          4   \n",
      "99996      GAZ?ANTEP              3  2015-04-01 21:35:55.000         15   \n",
      "99997      �ANAKKALE              3  2015-04-01 23:09:39.000         15   \n",
      "99998       Sungurlu              3  2015-04-01 21:58:48.000          1   \n",
      "99999       Sungurlu              3  2015-04-01 21:58:48.000          2   \n",
      "\n",
      "       Bilet_Fiyati  Odeme_Sekli SeferTipiAdi  ToplamSatisAdedi  \n",
      "0              40.0            1       MOLALI                64  \n",
      "1              45.0            1       MOLALI                95  \n",
      "2              35.0            1     TAR?FEL?                26  \n",
      "3              25.0            1       MOLALI                39  \n",
      "4              33.0            1     TAR?FEL?                29  \n",
      "...             ...          ...          ...               ...  \n",
      "99995          75.0            1       MOLALI                19  \n",
      "99996          15.0            1       MOLALI                43  \n",
      "99997          42.0            1       MOLALI                27  \n",
      "99998          60.0            1       MOLALI                21  \n",
      "99999          60.0            1       MOLALI                21  \n",
      "\n",
      "[100000 rows x 17 columns]\n"
     ]
    }
   ],
   "source": [
    "print (tour)"
   ]
  },
  {
   "cell_type": "code",
   "execution_count": null,
   "id": "da11f7f9",
   "metadata": {},
   "outputs": [],
   "source": []
  }
 ],
 "metadata": {
  "kernelspec": {
   "display_name": "Python 3",
   "language": "python",
   "name": "python3"
  },
  "language_info": {
   "codemirror_mode": {
    "name": "ipython",
    "version": 3
   },
   "file_extension": ".py",
   "mimetype": "text/x-python",
   "name": "python",
   "nbconvert_exporter": "python",
   "pygments_lexer": "ipython3",
   "version": "3.9.1"
  }
 },
 "nbformat": 4,
 "nbformat_minor": 5
}
